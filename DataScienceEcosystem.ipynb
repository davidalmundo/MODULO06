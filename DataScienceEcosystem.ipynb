{
 "cells": [
  {
   "cell_type": "markdown",
   "id": "e168288d-b887-479e-adfd-0c15725f8a42",
   "metadata": {},
   "source": [
    "# Herramientas y Ecosistema de Ciencia de Datos"
   ]
  },
  {
   "cell_type": "markdown",
   "id": "1f1aff29-89bf-4e0d-a5c6-fdea833d5de2",
   "metadata": {},
   "source": [
    "En este cuaderno, se resumen las Herramientas y el Ecosistema de Ciencia de Datos.\n"
   ]
  },
  {
   "cell_type": "markdown",
   "id": "586f07de-8716-48e5-8122-2169c08e9eac",
   "metadata": {},
   "source": [
    "Algunos de los lenguajes populares que utilizan los Científicos de Datos son:\n",
    "\n",
    "1. Python\n",
    "2. R\n",
    "3. SQL\n",
    "4. Java\n",
    "5. Julia\n"
   ]
  },
  {
   "cell_type": "markdown",
   "id": "5670aba8-2f5e-4db7-b450-7e1a611874bc",
   "metadata": {},
   "source": [
    "Algunas de las bibliotecas comúnmente utilizadas por los Científicos de Datos incluyen:\n",
    "\n",
    "1. NumPy\n",
    "2. Pandas\n",
    "3. Matplotlib\n",
    "4. Scikit-learn\n",
    "5. TensorFlow"
   ]
  },
  {
   "cell_type": "markdown",
   "id": "ac70b650-abfc-4656-bf42-76e3d3714e8c",
   "metadata": {},
   "source": [
    "| Herramientas de Ciencia de Datos |\n",
    "|:---------------------------------|\n",
    "| Jupyter Notebook                 |\n",
    "| RStudio                          |\n",
    "| Apache Zeppelin                  |\n"
   ]
  },
  {
   "cell_type": "markdown",
   "id": "92928b29-e69c-4838-b015-82e0b852b17f",
   "metadata": {},
   "source": [
    "### A continuación, algunos ejemplos de evaluación de expresiones aritméticas en Python."
   ]
  },
  {
   "cell_type": "code",
   "execution_count": 1,
   "id": "3151b8b2-3d68-445b-be01-da6f10372b31",
   "metadata": {
    "tags": []
   },
   "outputs": [
    {
     "data": {
      "text/plain": [
       "17"
      ]
     },
     "execution_count": 1,
     "metadata": {},
     "output_type": "execute_result"
    }
   ],
   "source": [
    "# Esta es una simple expresión aritmética para multiplicar y luego sumar enteros\n",
    "(3 * 4) + 5"
   ]
  },
  {
   "cell_type": "code",
   "execution_count": 2,
   "id": "46ebdac9-1470-4a9d-a260-95c550021845",
   "metadata": {
    "tags": []
   },
   "outputs": [
    {
     "data": {
      "text/plain": [
       "3.3333333333333335"
      ]
     },
     "execution_count": 2,
     "metadata": {},
     "output_type": "execute_result"
    }
   ],
   "source": [
    "# Esto convertirá 200 minutos en horas dividiendo por 60\n",
    "200 / 60"
   ]
  },
  {
   "cell_type": "markdown",
   "id": "7e653ff6-1c95-4301-910f-2e4527cfc3ad",
   "metadata": {},
   "source": [
    "**Objetivos:**\n",
    "\n",
    "- Listar lenguajes populares para la Ciencia de Datos.\n",
    "- Listar bibliotecas comunes utilizadas por los Científicos de Datos.\n",
    "- Crear una tabla de herramientas de Ciencia de Datos.\n",
    "- Evaluar expresiones aritméticas en Python.\n",
    "- Convertir unidades de tiempo."
   ]
  },
  {
   "cell_type": "markdown",
   "id": "ea39f38e-68a0-4d70-bc1c-58c7d9ecc7a8",
   "metadata": {},
   "source": [
    "## Autor\n",
    "\n",
    "David Rodríguez Morillas"
   ]
  },
  {
   "cell_type": "code",
   "execution_count": null,
   "id": "31d8d6be-e7b3-409a-a381-3079cc7b5714",
   "metadata": {},
   "outputs": [],
   "source": []
  }
 ],
 "metadata": {
  "kernelspec": {
   "display_name": "Python",
   "language": "python",
   "name": "conda-env-python-py"
  },
  "language_info": {
   "codemirror_mode": {
    "name": "ipython",
    "version": 3
   },
   "file_extension": ".py",
   "mimetype": "text/x-python",
   "name": "python",
   "nbconvert_exporter": "python",
   "pygments_lexer": "ipython3",
   "version": "3.7.12"
  }
 },
 "nbformat": 4,
 "nbformat_minor": 5
}
